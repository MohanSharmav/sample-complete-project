{
  "nbformat": 4,
  "nbformat_minor": 0,
  "metadata": {
    "colab": {
      "name": "F1.ipynb",
      "provenance": [],
      "collapsed_sections": [],
      "authorship_tag": "ABX9TyPZqX3cd2s8DagE6WbCdNWQ",
      "include_colab_link": true
    },
    "kernelspec": {
      "name": "python3",
      "display_name": "Python 3"
    }
  },
  "cells": [
    {
      "cell_type": "markdown",
      "metadata": {
        "id": "view-in-github",
        "colab_type": "text"
      },
      "source": [
        "<a href=\"https://colab.research.google.com/github/MohanSharmav/sample-complete-project/blob/master/F1.ipynb\" target=\"_parent\"><img src=\"https://colab.research.google.com/assets/colab-badge.svg\" alt=\"Open In Colab\"/></a>"
      ]
    },
    {
      "cell_type": "code",
      "metadata": {
        "id": "aQ-ovzByBQvB",
        "colab_type": "code",
        "colab": {}
      },
      "source": [
        "X=pd.read_csv(\"/content/tran.csv\")\n",
        "\n",
        "#load data set to colab"
      ],
      "execution_count": 0,
      "outputs": []
    },
    {
      "cell_type": "code",
      "metadata": {
        "id": "bk5T0CIaNCVm",
        "colab_type": "code",
        "colab": {}
      },
      "source": [
        "from sklearn.model_selection import train_test_split\n",
        "\n",
        "#split the data set to train model\n",
        "X_train, X_val, Y_train, Y_val = train_test_split(x,y)"
      ],
      "execution_count": 0,
      "outputs": []
    },
    {
      "cell_type": "code",
      "metadata": {
        "id": "1bJonSJlBmtv",
        "colab_type": "code",
        "colab": {}
      },
      "source": [
        "x = df.drop([\"price_range\"], axis = 1)\n",
        "#independent feature\n",
        "y = df[\"price_range\"]\n",
        "#dependent feature"
      ],
      "execution_count": 0,
      "outputs": []
    },
    {
      "cell_type": "code",
      "metadata": {
        "id": "o-6IwI4lBiGx",
        "colab_type": "code",
        "colab": {}
      },
      "source": [
        "import pandas as pd\n"
      ],
      "execution_count": 0,
      "outputs": []
    },
    {
      "cell_type": "code",
      "metadata": {
        "id": "V358B8-8NT5D",
        "colab_type": "code",
        "outputId": "e92878e7-f266-4cb3-fea5-07a8223d6e5e",
        "colab": {
          "base_uri": "https://localhost:8080/",
          "height": 215
        }
      },
      "source": [
        "x.head()\n",
        "#Display the 5 row of features"
      ],
      "execution_count": 0,
      "outputs": [
        {
          "output_type": "execute_result",
          "data": {
            "text/html": [
              "<div>\n",
              "<style scoped>\n",
              "    .dataframe tbody tr th:only-of-type {\n",
              "        vertical-align: middle;\n",
              "    }\n",
              "\n",
              "    .dataframe tbody tr th {\n",
              "        vertical-align: top;\n",
              "    }\n",
              "\n",
              "    .dataframe thead th {\n",
              "        text-align: right;\n",
              "    }\n",
              "</style>\n",
              "<table border=\"1\" class=\"dataframe\">\n",
              "  <thead>\n",
              "    <tr style=\"text-align: right;\">\n",
              "      <th></th>\n",
              "      <th>battery_power</th>\n",
              "      <th>blue</th>\n",
              "      <th>clock_speed</th>\n",
              "      <th>dual_sim</th>\n",
              "      <th>fc</th>\n",
              "      <th>four_g</th>\n",
              "      <th>int_memory</th>\n",
              "      <th>m_dep</th>\n",
              "      <th>mobile_wt</th>\n",
              "      <th>n_cores</th>\n",
              "      <th>pc</th>\n",
              "      <th>px_height</th>\n",
              "      <th>px_width</th>\n",
              "      <th>ram</th>\n",
              "      <th>sc_h</th>\n",
              "      <th>sc_w</th>\n",
              "      <th>talk_time</th>\n",
              "      <th>three_g</th>\n",
              "      <th>touch_screen</th>\n",
              "      <th>wifi</th>\n",
              "    </tr>\n",
              "  </thead>\n",
              "  <tbody>\n",
              "    <tr>\n",
              "      <th>0</th>\n",
              "      <td>842</td>\n",
              "      <td>0</td>\n",
              "      <td>2.2</td>\n",
              "      <td>0</td>\n",
              "      <td>1</td>\n",
              "      <td>0</td>\n",
              "      <td>7</td>\n",
              "      <td>0.6</td>\n",
              "      <td>188</td>\n",
              "      <td>2</td>\n",
              "      <td>2</td>\n",
              "      <td>20</td>\n",
              "      <td>756</td>\n",
              "      <td>2549</td>\n",
              "      <td>9</td>\n",
              "      <td>7</td>\n",
              "      <td>19</td>\n",
              "      <td>0</td>\n",
              "      <td>0</td>\n",
              "      <td>1</td>\n",
              "    </tr>\n",
              "    <tr>\n",
              "      <th>1</th>\n",
              "      <td>1021</td>\n",
              "      <td>1</td>\n",
              "      <td>0.5</td>\n",
              "      <td>1</td>\n",
              "      <td>0</td>\n",
              "      <td>1</td>\n",
              "      <td>53</td>\n",
              "      <td>0.7</td>\n",
              "      <td>136</td>\n",
              "      <td>3</td>\n",
              "      <td>6</td>\n",
              "      <td>905</td>\n",
              "      <td>1988</td>\n",
              "      <td>2631</td>\n",
              "      <td>17</td>\n",
              "      <td>3</td>\n",
              "      <td>7</td>\n",
              "      <td>1</td>\n",
              "      <td>1</td>\n",
              "      <td>0</td>\n",
              "    </tr>\n",
              "    <tr>\n",
              "      <th>2</th>\n",
              "      <td>563</td>\n",
              "      <td>1</td>\n",
              "      <td>0.5</td>\n",
              "      <td>1</td>\n",
              "      <td>2</td>\n",
              "      <td>1</td>\n",
              "      <td>41</td>\n",
              "      <td>0.9</td>\n",
              "      <td>145</td>\n",
              "      <td>5</td>\n",
              "      <td>6</td>\n",
              "      <td>1263</td>\n",
              "      <td>1716</td>\n",
              "      <td>2603</td>\n",
              "      <td>11</td>\n",
              "      <td>2</td>\n",
              "      <td>9</td>\n",
              "      <td>1</td>\n",
              "      <td>1</td>\n",
              "      <td>0</td>\n",
              "    </tr>\n",
              "    <tr>\n",
              "      <th>3</th>\n",
              "      <td>615</td>\n",
              "      <td>1</td>\n",
              "      <td>2.5</td>\n",
              "      <td>0</td>\n",
              "      <td>0</td>\n",
              "      <td>0</td>\n",
              "      <td>10</td>\n",
              "      <td>0.8</td>\n",
              "      <td>131</td>\n",
              "      <td>6</td>\n",
              "      <td>9</td>\n",
              "      <td>1216</td>\n",
              "      <td>1786</td>\n",
              "      <td>2769</td>\n",
              "      <td>16</td>\n",
              "      <td>8</td>\n",
              "      <td>11</td>\n",
              "      <td>1</td>\n",
              "      <td>0</td>\n",
              "      <td>0</td>\n",
              "    </tr>\n",
              "    <tr>\n",
              "      <th>4</th>\n",
              "      <td>1821</td>\n",
              "      <td>1</td>\n",
              "      <td>1.2</td>\n",
              "      <td>0</td>\n",
              "      <td>13</td>\n",
              "      <td>1</td>\n",
              "      <td>44</td>\n",
              "      <td>0.6</td>\n",
              "      <td>141</td>\n",
              "      <td>2</td>\n",
              "      <td>14</td>\n",
              "      <td>1208</td>\n",
              "      <td>1212</td>\n",
              "      <td>1411</td>\n",
              "      <td>8</td>\n",
              "      <td>2</td>\n",
              "      <td>15</td>\n",
              "      <td>1</td>\n",
              "      <td>1</td>\n",
              "      <td>0</td>\n",
              "    </tr>\n",
              "  </tbody>\n",
              "</table>\n",
              "</div>"
            ],
            "text/plain": [
              "   battery_power  blue  clock_speed  ...  three_g  touch_screen  wifi\n",
              "0            842     0          2.2  ...        0             0     1\n",
              "1           1021     1          0.5  ...        1             1     0\n",
              "2            563     1          0.5  ...        1             1     0\n",
              "3            615     1          2.5  ...        1             0     0\n",
              "4           1821     1          1.2  ...        1             1     0\n",
              "\n",
              "[5 rows x 20 columns]"
            ]
          },
          "metadata": {
            "tags": []
          },
          "execution_count": 41
        }
      ]
    },
    {
      "cell_type": "code",
      "metadata": {
        "id": "tmbBvz95NYaD",
        "colab_type": "code",
        "colab": {}
      },
      "source": [
        "X_train_scaled = X_train.copy()\n",
        "X_val_scaled = X_val.copy()\n",
        "#copying the data\n",
        "\n",
        "from sklearn.preprocessing import MinMaxScaler\n",
        "scaler = MinMaxScaler()\n",
        "#scaling for better understanding and accuracy\n",
        "\n",
        "scaler.fit(X_train_scaled)\n",
        "#fitting the daata\n",
        "x_train_scaled_1 = scaler.transform(X_train_scaled)\n",
        "x_val_scaled_1 = scaler.transform(X_val_scaled)"
      ],
      "execution_count": 0,
      "outputs": []
    },
    {
      "cell_type": "code",
      "metadata": {
        "id": "T-KtWlC0Nj6Q",
        "colab_type": "code",
        "outputId": "ae9e725e-8dbc-4c88-850d-d747873bc6ea",
        "colab": {
          "base_uri": "https://localhost:8080/",
          "height": 84
        }
      },
      "source": [
        "print(\"X Train shape:\" , X_train.shape)\n",
        "print(\"X Validation shape:\" ,   X_val.shape)\n",
        "print(\"Y Train shape:\",     Y_train.shape)\n",
        "print( \"Y Validation Shape:\",   Y_val.shape)\n",
        "#print the number shape of eacha feature"
      ],
      "execution_count": 0,
      "outputs": [
        {
          "output_type": "stream",
          "text": [
            "X Train shape: (1500, 20)\n",
            "X Validation shape: (500, 20)\n",
            "Y Train shape: (1500,)\n",
            "Y Validation Shape: (500,)\n"
          ],
          "name": "stdout"
        }
      ]
    },
    {
      "cell_type": "code",
      "metadata": {
        "id": "aZmjMZBwNxu1",
        "colab_type": "code",
        "colab": {}
      },
      "source": [
        "from sklearn.ensemble import RandomForestClassifier\n",
        "#import the random forest model to train the data \n",
        "from sklearn.model_selection import GridSearchCV\n",
        "#IMPORT  the gridsearrch cv for best selection of fearture"
      ],
      "execution_count": 0,
      "outputs": []
    },
    {
      "cell_type": "code",
      "metadata": {
        "id": "D2e0e_neOgFx",
        "colab_type": "code",
        "colab": {}
      },
      "source": [
        "rf_parm = dict(n_estimators = [20, 30, 50, 70, 100, 150], max_features = [0.1, 0.2, 0.6, 0.9], max_depth = [10,20,30],min_samples_leaf=[1,10,100, 400, 500, 600],random_state=[0])\n",
        "\n",
        "#initinalization of the number of estimators,max feature,max deapth,samples"
      ],
      "execution_count": 0,
      "outputs": []
    },
    {
      "cell_type": "code",
      "metadata": {
        "id": "7ytJl4tXO1n4",
        "colab_type": "code",
        "colab": {}
      },
      "source": [
        "rc = RandomForestClassifier()\n",
        "#variable assignment to the model\n",
        "rf_grid = GridSearchCV(estimator = rc, param_grid = rf_parm)\n",
        "#variable assssignment to the model"
      ],
      "execution_count": 0,
      "outputs": []
    },
    {
      "cell_type": "code",
      "metadata": {
        "id": "DLClxXauPAXm",
        "colab_type": "code",
        "outputId": "9af9976c-354c-4459-833a-e5d9839c0067",
        "colab": {
          "base_uri": "https://localhost:8080/",
          "height": 420
        }
      },
      "source": [
        "rf_grid.fit(X_train,Y_train)\n",
        "#fit features to the model"
      ],
      "execution_count": 0,
      "outputs": [
        {
          "output_type": "execute_result",
          "data": {
            "text/plain": [
              "GridSearchCV(cv=None, error_score=nan,\n",
              "             estimator=RandomForestClassifier(bootstrap=True, ccp_alpha=0.0,\n",
              "                                              class_weight=None,\n",
              "                                              criterion='gini', max_depth=None,\n",
              "                                              max_features='auto',\n",
              "                                              max_leaf_nodes=None,\n",
              "                                              max_samples=None,\n",
              "                                              min_impurity_decrease=0.0,\n",
              "                                              min_impurity_split=None,\n",
              "                                              min_samples_leaf=1,\n",
              "                                              min_samples_split=2,\n",
              "                                              min_weight_fraction_leaf=0.0,\n",
              "                                              n_estimators=100, n_jobs=None,\n",
              "                                              oob_score=False,\n",
              "                                              random_state=None, verbose=0,\n",
              "                                              warm_start=False),\n",
              "             iid='deprecated', n_jobs=None,\n",
              "             param_grid={'max_depth': [10, 20, 30],\n",
              "                         'max_features': [0.1, 0.2, 0.6, 0.9],\n",
              "                         'min_samples_leaf': [1, 10, 100, 400, 500, 600],\n",
              "                         'n_estimators': [20, 30, 50, 70, 100, 150],\n",
              "                         'random_state': [0]},\n",
              "             pre_dispatch='2*n_jobs', refit=True, return_train_score=False,\n",
              "             scoring=None, verbose=0)"
            ]
          },
          "metadata": {
            "tags": []
          },
          "execution_count": 51
        }
      ]
    },
    {
      "cell_type": "code",
      "metadata": {
        "id": "uO8_gjUVQowu",
        "colab_type": "code",
        "outputId": "b808547e-0316-48cc-a5d0-6f19bc29668b",
        "colab": {
          "base_uri": "https://localhost:8080/",
          "height": 70
        }
      },
      "source": [
        "print(\"RF Best Score:\", rf_grid.best_score_)\n",
        "print(\"RF Best Parameters:\", rf_grid.best_params_)\n",
        "#printing teh best score and parameter"
      ],
      "execution_count": 0,
      "outputs": [
        {
          "output_type": "stream",
          "text": [
            "RF Best Score: 0.9053333333333334\n",
            "RF Best Parameters: {'max_depth': 10, 'max_features': 0.6, 'min_samples_leaf': 1, 'n_estimators': 150, 'random_state': 0}\n"
          ],
          "name": "stdout"
        }
      ]
    },
    {
      "cell_type": "code",
      "metadata": {
        "id": "kCT8jKOPQ2l6",
        "colab_type": "code",
        "colab": {}
      },
      "source": [
        "\n",
        "\n",
        "rc_best = RandomForestClassifier(n_estimators = 150,  max_features = 0.6, min_samples_leaf = 1, max_depth = 20, random_state = 0 )\n",
        "#varible assignment to the model"
      ],
      "execution_count": 0,
      "outputs": []
    },
    {
      "cell_type": "code",
      "metadata": {
        "id": "tK8KjqGTRCrS",
        "colab_type": "code",
        "colab": {}
      },
      "source": [
        "rc_best.fit(X_train, Y_train)\n",
        "rc_tr_pred = rc_best.predict(X_train)\n",
        "rc_val_pred = rc_best.predict(X_val)\n",
        "#fit the feeatures into the variable to predict"
      ],
      "execution_count": 0,
      "outputs": []
    },
    {
      "cell_type": "code",
      "metadata": {
        "id": "ftJt8n4nRG-p",
        "colab_type": "code",
        "outputId": "76c480ff-b8c2-4d37-9a23-eebc6e3856eb",
        "colab": {
          "base_uri": "https://localhost:8080/",
          "height": 252
        }
      },
      "source": [
        "print(rc_val_pred)\n",
        "#print the value of rc_val_pred got by predection of X_val data set"
      ],
      "execution_count": 0,
      "outputs": [
        {
          "output_type": "stream",
          "text": [
            "[3 3 0 2 0 2 1 2 2 3 2 2 3 3 2 2 1 2 0 0 1 0 1 1 1 3 1 1 0 1 0 2 0 1 2 1 2\n",
            " 1 2 0 2 2 3 0 2 2 3 0 2 3 0 3 1 1 3 0 0 2 3 2 3 0 0 2 0 3 3 2 2 2 2 3 0 1\n",
            " 1 1 1 2 1 2 3 3 0 3 2 2 3 2 2 3 1 2 1 0 0 0 2 1 3 1 3 1 0 1 3 3 2 2 3 3 1\n",
            " 1 2 0 0 0 0 1 3 0 1 1 3 0 2 3 3 1 3 2 0 1 3 3 1 2 0 3 3 3 0 2 1 1 1 3 0 3\n",
            " 2 1 0 3 3 2 0 1 0 2 3 1 2 3 1 1 3 1 0 2 3 2 0 3 2 1 0 2 1 3 0 2 2 0 2 3 1\n",
            " 2 0 0 2 3 0 0 2 3 1 3 2 0 1 2 3 3 1 3 0 0 3 3 2 1 1 1 1 1 2 2 3 0 0 1 1 3\n",
            " 3 1 1 0 2 0 2 0 0 2 3 1 2 2 2 2 0 3 1 1 0 1 2 2 1 1 1 0 3 3 3 1 2 1 1 0 2\n",
            " 0 0 2 2 0 1 1 3 0 2 2 1 0 1 3 3 1 2 1 3 3 2 1 2 1 3 0 3 3 3 3 1 3 2 0 2 1\n",
            " 0 2 1 3 1 3 2 0 2 1 1 1 0 1 3 1 1 3 1 0 0 1 0 3 0 3 2 2 1 2 2 2 2 3 1 2 2\n",
            " 3 3 1 3 2 0 1 1 2 3 3 3 3 3 0 0 3 3 2 1 3 0 1 3 1 2 1 3 3 1 0 3 0 3 3 3 0\n",
            " 1 2 1 2 3 1 1 0 2 0 2 3 3 2 2 2 0 2 2 2 0 1 0 1 2 0 0 0 3 0 3 0 0 1 0 2 1\n",
            " 0 0 1 2 1 0 2 2 0 1 0 3 2 3 2 1 0 0 2 0 1 1 0 2 3 0 0 0 3 0 3 0 0 1 3 1 1\n",
            " 2 1 2 1 0 1 3 2 2 1 1 1 0 1 0 1 1 2 1 3 3 2 3 1 1 0 3 2 0 1 1 3 1 1 0 1 0\n",
            " 2 1 0 0 3 3 0 2 3 3 0 2 0 2 2 0 1 3 1]\n"
          ],
          "name": "stdout"
        }
      ]
    },
    {
      "cell_type": "code",
      "metadata": {
        "id": "VOIT6_CLTEgk",
        "colab_type": "code",
        "colab": {}
      },
      "source": [
        "from sklearn.metrics import accuracy_score \n",
        "#Accuracy is one metric for evaluating classification models.\n",
        "# Informally, accuracy is the fraction of predictions our model got right\n",
        "# Formally, accuracy has the following definition: Accuracy = Number of correct predictions Total number of predictions.\n",
        "\n",
        "from sklearn.metrics import confusion_matrix \n",
        "\n",
        "#A confusion matrix is a table that is often used to describe the performance of a classification model (or “classifier”)\n",
        "# on a set of test data for which the true values are known\n",
        "\n",
        "from sklearn.metrics import f1_score\n",
        "#In statistical analysis of binary classification, the F1 score (also F-score or F-measure) is a measure of a test's accuracy.\n",
        "\n",
        "from sklearn.metrics import precision_score\n",
        "\n",
        "from sklearn.metrics import recall_score"
      ],
      "execution_count": 0,
      "outputs": []
    },
    {
      "cell_type": "code",
      "metadata": {
        "id": "6BkVxhIZW_9h",
        "colab_type": "code",
        "outputId": "a0777234-db34-4dba-d9c0-cb6279cf4c44",
        "colab": {
          "base_uri": "https://localhost:8080/",
          "height": 121
        }
      },
      "source": [
        "print(\"Precision Score : \",precision_score(Y_val, rc_val_pred , \n",
        "                                           pos_label='positive',\n",
        "                                           average='weighted'))\n",
        "print(\"Recall Score : \",recall_score(Y_val, rc_val_pred , \n",
        "                                           pos_label='positive',\n",
        "                                           average='weighted'))\n",
        "print(\"F1 Score:\",  f1_score(Y_val, rc_val_pred , \n",
        "                                           pos_label='positive',\n",
        "                                           average='weighted'))\n",
        "\n",
        "#print the precision,recall,f1 score"
      ],
      "execution_count": 0,
      "outputs": [
        {
          "output_type": "stream",
          "text": [
            "Precision Score :  0.8832087067623722\n",
            "Recall Score :  0.884\n",
            "F1 Score: 0.883376351910913\n"
          ],
          "name": "stdout"
        },
        {
          "output_type": "stream",
          "text": [
            "/usr/local/lib/python3.6/dist-packages/sklearn/metrics/_classification.py:1321: UserWarning: Note that pos_label (set to 'positive') is ignored when average != 'binary' (got 'weighted'). You may use labels=[pos_label] to specify a single positive class.\n",
            "  % (pos_label, average), UserWarning)\n"
          ],
          "name": "stderr"
        }
      ]
    },
    {
      "cell_type": "code",
      "metadata": {
        "id": "r1aLwZPLXF5P",
        "colab_type": "code",
        "outputId": "292cf5fd-4743-40c4-f881-2b4672abf9a0",
        "colab": {
          "base_uri": "https://localhost:8080/",
          "height": 202
        }
      },
      "source": [
        "from sklearn.metrics import classification_report\n",
        "\n",
        "print(classification_report(Y_val, rc_val_pred))\n",
        "# the classification report in a formal matter for data set"
      ],
      "execution_count": 0,
      "outputs": [
        {
          "output_type": "stream",
          "text": [
            "              precision    recall  f1-score   support\n",
            "\n",
            "           0       0.92      0.96      0.94       113\n",
            "           1       0.88      0.86      0.87       137\n",
            "           2       0.84      0.81      0.83       129\n",
            "           3       0.90      0.91      0.91       121\n",
            "\n",
            "    accuracy                           0.88       500\n",
            "   macro avg       0.88      0.89      0.89       500\n",
            "weighted avg       0.88      0.88      0.88       500\n",
            "\n"
          ],
          "name": "stdout"
        }
      ]
    },
    {
      "cell_type": "code",
      "metadata": {
        "id": "spXO9NXlYorW",
        "colab_type": "code",
        "outputId": "b12fc5b7-819a-4d4f-9f62-96215f6df2ec",
        "colab": {
          "base_uri": "https://localhost:8080/",
          "height": 84
        }
      },
      "source": [
        "sklearn.metrics.confusion_matrix(rc_val_pred, Y_val, labels=None, sample_weight=None, normalize=None)\n",
        "\n",
        "#print the confusion matrix obtained from the data set"
      ],
      "execution_count": 0,
      "outputs": [
        {
          "output_type": "execute_result",
          "data": {
            "text/plain": [
              "array([[109,  10,   0,   0],\n",
              "       [  4, 118,  12,   0],\n",
              "       [  0,   9, 105,  11],\n",
              "       [  0,   0,  12, 110]])"
            ]
          },
          "metadata": {
            "tags": []
          },
          "execution_count": 66
        }
      ]
    },
    {
      "cell_type": "code",
      "metadata": {
        "id": "XHwpI8sUaBsx",
        "colab_type": "code",
        "colab": {}
      },
      "source": [
        ""
      ],
      "execution_count": 0,
      "outputs": []
    },
    {
      "cell_type": "markdown",
      "metadata": {
        "id": "AzHHtDxARPK2",
        "colab_type": "text"
      },
      "source": [
        "Method 2 for precision,recall, f1 score"
      ]
    },
    {
      "cell_type": "code",
      "metadata": {
        "id": "LQlcV5GWZti1",
        "colab_type": "code",
        "colab": {}
      },
      "source": [
        "import sklearn"
      ],
      "execution_count": 0,
      "outputs": []
    },
    {
      "cell_type": "code",
      "metadata": {
        "id": "uGiw3vEHa6_z",
        "colab_type": "code",
        "outputId": "67b6b377-3633-4dfd-9db3-0770a2b59d00",
        "colab": {
          "base_uri": "https://localhost:8080/",
          "height": 34
        }
      },
      "source": [
        "sklearn.metrics.f1_score(rc_val_pred, Y_val, labels=None, pos_label=1, average=None, sample_weight=None, zero_division='warn')\n",
        "#print the f1 scores of values using sklearn"
      ],
      "execution_count": 0,
      "outputs": [
        {
          "output_type": "execute_result",
          "data": {
            "text/plain": [
              "array([0.93965517, 0.87084871, 0.82677165, 0.90534979])"
            ]
          },
          "metadata": {
            "tags": []
          },
          "execution_count": 68
        }
      ]
    },
    {
      "cell_type": "code",
      "metadata": {
        "id": "yv4ErJUvbZQI",
        "colab_type": "code",
        "outputId": "83c55dbc-a870-414c-c156-33167ecfd0de",
        "colab": {
          "base_uri": "https://localhost:8080/",
          "height": 34
        }
      },
      "source": [
        "sklearn.metrics.precision_score(rc_val_pred,Y_val, labels=None, pos_label=1, average=None, sample_weight=None, zero_division='warn')\n",
        "#print precision values using f1 score"
      ],
      "execution_count": 0,
      "outputs": [
        {
          "output_type": "execute_result",
          "data": {
            "text/plain": [
              "array([0.96460177, 0.86131387, 0.81395349, 0.90909091])"
            ]
          },
          "metadata": {
            "tags": []
          },
          "execution_count": 73
        }
      ]
    },
    {
      "cell_type": "code",
      "metadata": {
        "id": "o8RhUeGjfte8",
        "colab_type": "code",
        "outputId": "ab5fd777-a923-4182-ee6b-1386c8092e55",
        "colab": {
          "base_uri": "https://localhost:8080/",
          "height": 34
        }
      },
      "source": [
        "sklearn.metrics.recall_score(rc_val_pred,Y_val, labels=None, pos_label=1, average=None, sample_weight=None, zero_division='warn')\n",
        "#print the recall score usinng sklearn"
      ],
      "execution_count": 0,
      "outputs": [
        {
          "output_type": "execute_result",
          "data": {
            "text/plain": [
              "array([0.91596639, 0.88059701, 0.84      , 0.90163934])"
            ]
          },
          "metadata": {
            "tags": []
          },
          "execution_count": 75
        }
      ]
    },
    {
      "cell_type": "code",
      "metadata": {
        "id": "1eK5_V-GgSUq",
        "colab_type": "code",
        "outputId": "91893985-6e1d-4b0c-dea0-da0b984b65f5",
        "colab": {
          "base_uri": "https://localhost:8080/",
          "height": 84
        }
      },
      "source": [
        "from sklearn.metrics import precision_recall_fscore_support as score\n",
        "\n",
        "#printing the precision recall and f score in a formal way\n",
        "\n",
        "precision, recall, fscore, support = score(rc_val_pred,Y_val)\n",
        "\n",
        "print('precision: {}'.format(precision))\n",
        "print('recall: {}'.format(recall))\n",
        "print('fscore: {}'.format(fscore))\n",
        "print('support: {}'.format(support))"
      ],
      "execution_count": 0,
      "outputs": [
        {
          "output_type": "stream",
          "text": [
            "precision: [0.96460177 0.86131387 0.81395349 0.90909091]\n",
            "recall: [0.91596639 0.88059701 0.84       0.90163934]\n",
            "fscore: [0.93965517 0.87084871 0.82677165 0.90534979]\n",
            "support: [119 134 125 122]\n"
          ],
          "name": "stdout"
        }
      ]
    }
  ]
}